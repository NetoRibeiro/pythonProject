{
  "nbformat": 4,
  "nbformat_minor": 0,
  "metadata": {
    "colab": {
      "name": "Locale.ipynb",
      "provenance": [],
      "collapsed_sections": [],
      "authorship_tag": "ABX9TyMNzX5wBlFQ6sgY3UBHuhMf",
      "include_colab_link": true
    },
    "kernelspec": {
      "name": "python3",
      "display_name": "Python 3"
    },
    "language_info": {
      "name": "python"
    }
  },
  "cells": [
    {
      "cell_type": "markdown",
      "metadata": {
        "id": "view-in-github",
        "colab_type": "text"
      },
      "source": [
        "<a href=\"https://colab.research.google.com/github/NetoRibeiro/pythonProject/blob/master/Locale.ipynb\" target=\"_parent\"><img src=\"https://colab.research.google.com/assets/colab-badge.svg\" alt=\"Open In Colab\"/></a>"
      ]
    },
    {
      "cell_type": "code",
      "metadata": {
        "id": "BxmijrzuyhS_"
      },
      "source": [
        "import re\n",
        "import locale"
      ],
      "execution_count": 59,
      "outputs": []
    },
    {
      "cell_type": "code",
      "metadata": {
        "colab": {
          "base_uri": "https://localhost:8080/",
          "height": 35
        },
        "id": "EjtqYYRQymx6",
        "outputId": "4a4582f5-cba5-4d86-e971-a586049348ac"
      },
      "source": [
        "decimal_point_char = locale.localeconv()['decimal_point']\n",
        "decimal_point_char"
      ],
      "execution_count": 60,
      "outputs": [
        {
          "output_type": "execute_result",
          "data": {
            "application/vnd.google.colaboratory.intrinsic+json": {
              "type": "string"
            },
            "text/plain": [
              "'.'"
            ]
          },
          "metadata": {
            "tags": []
          },
          "execution_count": 60
        }
      ]
    },
    {
      "cell_type": "code",
      "metadata": {
        "colab": {
          "base_uri": "https://localhost:8080/",
          "height": 35
        },
        "id": "9yr9PiBIzVah",
        "outputId": "d8525ec6-6262-4391-9fb6-6e9aac3e744d"
      },
      "source": [
        "param = \"BRL105.98   \"\n",
        "qty_sold = 1,000\n",
        "qty_return = 1,011.54\n",
        "param"
      ],
      "execution_count": 93,
      "outputs": [
        {
          "output_type": "execute_result",
          "data": {
            "application/vnd.google.colaboratory.intrinsic+json": {
              "type": "string"
            },
            "text/plain": [
              "'BRL105.98   '"
            ]
          },
          "metadata": {
            "tags": []
          },
          "execution_count": 93
        }
      ]
    },
    {
      "cell_type": "code",
      "metadata": {
        "colab": {
          "base_uri": "https://localhost:8080/"
        },
        "id": "84bwE3tWyuAJ",
        "outputId": "630452bd-6a9a-4eae-d4e4-454e3b9093dc"
      },
      "source": [
        "clean = re.sub(r'[^0-9'+decimal_point_char+r']+', '', str(param))\n",
        "value = float(clean)\n",
        "value"
      ],
      "execution_count": 94,
      "outputs": [
        {
          "output_type": "execute_result",
          "data": {
            "text/plain": [
              "105.98"
            ]
          },
          "metadata": {
            "tags": []
          },
          "execution_count": 94
        }
      ]
    },
    {
      "cell_type": "code",
      "metadata": {
        "id": "13w4NUlFzQGh"
      },
      "source": [
        "def remove_currency_sign(str_price, qty_sold, qty_return):\n",
        "    sales_amount = float(re.sub(r'[^0-9.]', '', str_price))\n",
        "\n",
        "    try:\n",
        "      qty_sold = float(qty_sold)\n",
        "    except:\n",
        "      qty_sold = 0.0\n",
        "    \n",
        "    try:\n",
        "      qty_return = float(qty_return)\n",
        "    except:\n",
        "      qty_return = 0.0\n",
        "\n",
        "    if qty_sold < qty_return:\n",
        "      sales_amount = sales_amount * -1\n",
        "    return sales_amount"
      ],
      "execution_count": 95,
      "outputs": []
    },
    {
      "cell_type": "code",
      "metadata": {
        "colab": {
          "base_uri": "https://localhost:8080/"
        },
        "id": "goOTGCf10KNQ",
        "outputId": "13c73dbe-0ada-474b-ba6f-62c60677eaf2"
      },
      "source": [
        "value_2 = remove_currency_sign(param, qty_sold, qty_return)\n",
        "value_2"
      ],
      "execution_count": 96,
      "outputs": [
        {
          "output_type": "execute_result",
          "data": {
            "text/plain": [
              "105.98"
            ]
          },
          "metadata": {
            "tags": []
          },
          "execution_count": 96
        }
      ]
    },
    {
      "cell_type": "code",
      "metadata": {
        "id": "KfoQRwXJMp5O"
      },
      "source": [
        "def remove_currency_new_sign(str_price, qty_sold, qty_return):\n",
        "    sales_amount = float(re.sub(r'[^0-9.]', '', str_price))\n",
        "\n",
        "    try:\n",
        "        str_qty = f'\"{qty_sold}\"'\n",
        "        qty_sold = float(re.sub(r'[^0-9.]', '', str_qty))\n",
        "        qty_sold = float(qty_sold)\n",
        "    except Exception as img_ex:\n",
        "        print(f'{qty_sold}\\tQty Sold is not a number:\\t{img_ex}')\n",
        "        qty_sold = 0.0\n",
        "\n",
        "    try:\n",
        "        str_qty_ret = f'\"{qty_return}\"'\n",
        "        qty_return = float(re.sub(r'[^0-9.]', '', str_qty_ret))\n",
        "        qty_return = float(qty_return)\n",
        "    except Exception as img_ex:\n",
        "        print(f'{qty_return}\\tQty Return is not a number:\\t{img_ex}')\n",
        "        qty_return = 0.0\n",
        "\n",
        "    if qty_sold < qty_return:\n",
        "        sales_amount = sales_amount * -1\n",
        "    return sales_amount"
      ],
      "execution_count": 103,
      "outputs": []
    },
    {
      "cell_type": "code",
      "metadata": {
        "id": "Duljn7p10ebx",
        "colab": {
          "base_uri": "https://localhost:8080/"
        },
        "outputId": "d02a9e7c-9f6c-4d03-e653-3b5bd20f6a6b"
      },
      "source": [
        "value_3 = remove_currency_new_sign(param, qty_sold, qty_return)\n",
        "value_3"
      ],
      "execution_count": 104,
      "outputs": [
        {
          "output_type": "execute_result",
          "data": {
            "text/plain": [
              "-105.98"
            ]
          },
          "metadata": {
            "tags": []
          },
          "execution_count": 104
        }
      ]
    },
    {
      "cell_type": "code",
      "metadata": {
        "id": "XtAziLjhNMpy"
      },
      "source": [
        ""
      ],
      "execution_count": null,
      "outputs": []
    }
  ]
}