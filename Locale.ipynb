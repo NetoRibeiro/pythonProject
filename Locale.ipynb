{
  "nbformat": 4,
  "nbformat_minor": 0,
  "metadata": {
    "colab": {
      "name": "Locale.ipynb",
      "provenance": [],
      "authorship_tag": "ABX9TyN+Pqu0EoIdJrx+VpTYEkoi",
      "include_colab_link": true
    },
    "kernelspec": {
      "name": "python3",
      "display_name": "Python 3"
    },
    "language_info": {
      "name": "python"
    }
  },
  "cells": [
    {
      "cell_type": "markdown",
      "metadata": {
        "id": "view-in-github",
        "colab_type": "text"
      },
      "source": [
        "<a href=\"https://colab.research.google.com/github/NetoRibeiro/pythonProject/blob/master/Locale.ipynb\" target=\"_parent\"><img src=\"https://colab.research.google.com/assets/colab-badge.svg\" alt=\"Open In Colab\"/></a>"
      ]
    },
    {
      "cell_type": "code",
      "metadata": {
        "id": "BxmijrzuyhS_"
      },
      "source": [
        "import re\n",
        "import locale"
      ],
      "execution_count": 14,
      "outputs": []
    },
    {
      "cell_type": "code",
      "metadata": {
        "colab": {
          "base_uri": "https://localhost:8080/",
          "height": 35
        },
        "id": "EjtqYYRQymx6",
        "outputId": "49a1a7d1-08fd-4bce-9cbe-360c811edfd6"
      },
      "source": [
        "decimal_point_char = locale.localeconv()['decimal_point']\n",
        "decimal_point_char"
      ],
      "execution_count": 15,
      "outputs": [
        {
          "output_type": "execute_result",
          "data": {
            "application/vnd.google.colaboratory.intrinsic+json": {
              "type": "string"
            },
            "text/plain": [
              "'.'"
            ]
          },
          "metadata": {
            "tags": []
          },
          "execution_count": 15
        }
      ]
    },
    {
      "cell_type": "code",
      "metadata": {
        "colab": {
          "base_uri": "https://localhost:8080/",
          "height": 35
        },
        "id": "9yr9PiBIzVah",
        "outputId": "cec8cc04-2762-4653-b275-733851716d9f"
      },
      "source": [
        "param = \"BRL105.98   \"\n",
        "qty_sold = \"100\"\n",
        "qty_return = \"101\"\n",
        "param"
      ],
      "execution_count": 47,
      "outputs": [
        {
          "output_type": "execute_result",
          "data": {
            "application/vnd.google.colaboratory.intrinsic+json": {
              "type": "string"
            },
            "text/plain": [
              "'BRL105.98   '"
            ]
          },
          "metadata": {
            "tags": []
          },
          "execution_count": 47
        }
      ]
    },
    {
      "cell_type": "code",
      "metadata": {
        "colab": {
          "base_uri": "https://localhost:8080/"
        },
        "id": "84bwE3tWyuAJ",
        "outputId": "5dabd0b3-b3e0-4a76-ac06-a0fc753c9c61"
      },
      "source": [
        "clean = re.sub(r'[^0-9'+decimal_point_char+r']+', '', str(param))\n",
        "value = float(clean)\n",
        "value"
      ],
      "execution_count": 48,
      "outputs": [
        {
          "output_type": "execute_result",
          "data": {
            "text/plain": [
              "105.98"
            ]
          },
          "metadata": {
            "tags": []
          },
          "execution_count": 48
        }
      ]
    },
    {
      "cell_type": "code",
      "metadata": {
        "id": "13w4NUlFzQGh"
      },
      "source": [
        "def remove_currency_sign(str_price, qty_sold, qty_return):\n",
        "    sales_amount = float(re.sub(r'[^0-9.]', '', str_price))\n",
        "\n",
        "    try:\n",
        "      qty_sold = float(qty_sold)\n",
        "    except:\n",
        "      qty_sold = 0.0\n",
        "    \n",
        "    try:\n",
        "      qty_return = float(qty_return)\n",
        "    except:\n",
        "      qty_return = 0.0\n",
        "\n",
        "    if qty_sold < qty_return:\n",
        "      sales_amount = sales_amount * -1\n",
        "    return sales_amount"
      ],
      "execution_count": 49,
      "outputs": []
    },
    {
      "cell_type": "code",
      "metadata": {
        "colab": {
          "base_uri": "https://localhost:8080/"
        },
        "id": "goOTGCf10KNQ",
        "outputId": "b958ee93-9a54-401c-eb8c-06d8f9cbe65f"
      },
      "source": [
        "value_2 = remove_currency_sign(param, qty_sold, qty_return)\n",
        "value_2"
      ],
      "execution_count": 50,
      "outputs": [
        {
          "output_type": "execute_result",
          "data": {
            "text/plain": [
              "-105.98"
            ]
          },
          "metadata": {
            "tags": []
          },
          "execution_count": 50
        }
      ]
    },
    {
      "cell_type": "code",
      "metadata": {
        "id": "Duljn7p10ebx"
      },
      "source": [
        ""
      ],
      "execution_count": null,
      "outputs": []
    }
  ]
}