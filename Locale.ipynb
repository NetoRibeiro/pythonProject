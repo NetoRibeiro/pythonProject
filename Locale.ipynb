{
  "nbformat": 4,
  "nbformat_minor": 0,
  "metadata": {
    "colab": {
      "name": "Locale.ipynb",
      "provenance": [],
      "authorship_tag": "ABX9TyOGzpCyf86lCBoDm/9FPaDJ",
      "include_colab_link": true
    },
    "kernelspec": {
      "name": "python3",
      "display_name": "Python 3"
    },
    "language_info": {
      "name": "python"
    }
  },
  "cells": [
    {
      "cell_type": "markdown",
      "metadata": {
        "id": "view-in-github",
        "colab_type": "text"
      },
      "source": [
        "<a href=\"https://colab.research.google.com/github/NetoRibeiro/pythonProject/blob/master/Locale.ipynb\" target=\"_parent\"><img src=\"https://colab.research.google.com/assets/colab-badge.svg\" alt=\"Open In Colab\"/></a>"
      ]
    },
    {
      "cell_type": "code",
      "metadata": {
        "id": "BxmijrzuyhS_"
      },
      "source": [
        "import re\n",
        "import locale"
      ],
      "execution_count": 1,
      "outputs": []
    },
    {
      "cell_type": "code",
      "metadata": {
        "colab": {
          "base_uri": "https://localhost:8080/",
          "height": 35
        },
        "id": "EjtqYYRQymx6",
        "outputId": "6a2dfa6f-057e-4b1c-c8ed-c8e86aee6f45"
      },
      "source": [
        "decimal_point_char = locale.localeconv()['decimal_point']\n",
        "decimal_point_char"
      ],
      "execution_count": 15,
      "outputs": [
        {
          "output_type": "execute_result",
          "data": {
            "application/vnd.google.colaboratory.intrinsic+json": {
              "type": "string"
            },
            "text/plain": [
              "'.'"
            ]
          },
          "metadata": {
            "tags": []
          },
          "execution_count": 15
        }
      ]
    },
    {
      "cell_type": "code",
      "metadata": {
        "colab": {
          "base_uri": "https://localhost:8080/",
          "height": 35
        },
        "id": "9yr9PiBIzVah",
        "outputId": "fa429f00-3af6-4d09-ab7a-483e31f78a17"
      },
      "source": [
        "param = \"BRL105.98   \"\n",
        "param"
      ],
      "execution_count": 38,
      "outputs": [
        {
          "output_type": "execute_result",
          "data": {
            "application/vnd.google.colaboratory.intrinsic+json": {
              "type": "string"
            },
            "text/plain": [
              "'BRL105.98   '"
            ]
          },
          "metadata": {
            "tags": []
          },
          "execution_count": 38
        }
      ]
    },
    {
      "cell_type": "code",
      "metadata": {
        "colab": {
          "base_uri": "https://localhost:8080/"
        },
        "id": "84bwE3tWyuAJ",
        "outputId": "cb182d25-eaa4-4318-9f99-4562669365cc"
      },
      "source": [
        "clean = re.sub(r'[^0-9'+decimal_point_char+r']+', '', str(param))\n",
        "value = float(clean)\n",
        "value"
      ],
      "execution_count": 39,
      "outputs": [
        {
          "output_type": "execute_result",
          "data": {
            "text/plain": [
              "105.98"
            ]
          },
          "metadata": {
            "tags": []
          },
          "execution_count": 39
        }
      ]
    },
    {
      "cell_type": "code",
      "metadata": {
        "id": "13w4NUlFzQGh"
      },
      "source": [
        "def remove_currency_sign(str_price):\n",
        "    sales_amount = float(re.sub(r'[^0-9.]', '', str_price))\n",
        "    return sales_amount"
      ],
      "execution_count": 43,
      "outputs": []
    },
    {
      "cell_type": "code",
      "metadata": {
        "colab": {
          "base_uri": "https://localhost:8080/"
        },
        "id": "goOTGCf10KNQ",
        "outputId": "1bf9c907-dec9-475f-8b7a-c29a3ca5e35a"
      },
      "source": [
        "value_2 = remove_currency_sign(param)\n",
        "value_2"
      ],
      "execution_count": 44,
      "outputs": [
        {
          "output_type": "execute_result",
          "data": {
            "text/plain": [
              "105.98"
            ]
          },
          "metadata": {
            "tags": []
          },
          "execution_count": 44
        }
      ]
    },
    {
      "cell_type": "code",
      "metadata": {
        "id": "Duljn7p10ebx"
      },
      "source": [
        ""
      ],
      "execution_count": null,
      "outputs": []
    }
  ]
}